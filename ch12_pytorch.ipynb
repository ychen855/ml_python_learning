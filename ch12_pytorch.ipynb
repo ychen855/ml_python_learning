{
 "cells": [
  {
   "cell_type": "code",
   "execution_count": 2,
   "metadata": {},
   "outputs": [
    {
     "name": "stdout",
     "output_type": "stream",
     "text": [
      "tensor([1, 2, 3])\n",
      "tensor([4, 5, 6], dtype=torch.int32)\n"
     ]
    }
   ],
   "source": [
    "import torch\n",
    "import numpy as np\n",
    "\n",
    "np.set_printoptions(precision=3)\n",
    "\n",
    "# creating a tensor from list or numpy array\n",
    "a = [1, 2, 3]\n",
    "b = np.array([4, 5, 6], dtype=np.int32)\n",
    "t_a = torch.tensor(a)\n",
    "t_b = torch.from_numpy(b)\n",
    "print(t_a)\n",
    "print(t_b)"
   ]
  },
  {
   "attachments": {},
   "cell_type": "markdown",
   "metadata": {},
   "source": [
    "### Creating a tensor\n",
    "- torch.ones()\n",
    "- torch.rand()"
   ]
  },
  {
   "cell_type": "code",
   "execution_count": 7,
   "metadata": {},
   "outputs": [
    {
     "name": "stdout",
     "output_type": "stream",
     "text": [
      "tensor([[0.6396, 0.4050, 0.9511],\n",
      "        [0.3692, 0.2684, 0.4280]])\n",
      "tensor([[0.7920, 0.9493, 0.9969],\n",
      "        [0.1535, 0.8368, 0.5453]])\n"
     ]
    }
   ],
   "source": [
    "# one tensor\n",
    "t_ones = torch.ones(2, 3)\n",
    "t_ones.shape\n",
    "\n",
    "# random tensor\n",
    "rand_tensor = torch.rand(2, 3)\n",
    "print(rand_tensor)\n",
    "rand_tensor_2 = torch.rand((2, 3))\n",
    "print(rand_tensor_2)"
   ]
  },
  {
   "attachments": {},
   "cell_type": "markdown",
   "metadata": {},
   "source": [
    "### Transposing, reshaping and squeezing\n",
    "- torch.transpose(t, dim_1, dim_2)\n",
    "- torch.reshape(t, size(dim_1, dim_2))\n",
    "- torch.squeeze(t, dim)"
   ]
  },
  {
   "cell_type": "code",
   "execution_count": 13,
   "metadata": {},
   "outputs": [
    {
     "name": "stdout",
     "output_type": "stream",
     "text": [
      "torch.Size([1, 2, 1, 4, 1])  -->  torch.Size([1, 2, 4, 1])\n"
     ]
    }
   ],
   "source": [
    "# transpose a tensor\n",
    "t = torch.rand(3, 5)\n",
    "t_tr = torch.transpose(t, 0, 1)\n",
    "# print(t.shape, '--->', t_tr.shape)\n",
    "\n",
    "# reshaping a tensor\n",
    "t = torch.zeros(30)\n",
    "t_reshap = torch.reshape(t, (5, 6))\n",
    "t_res_tuple = t.reshape((5,6))\n",
    "t_res_list = t.reshape(5, 6)\n",
    "# print(t.shape)\n",
    "# print(t_reshap.shape)\n",
    "# print(t_res_tuple.shape)\n",
    "# print(t_res_list.shape)\n",
    "\n",
    "# squeezing a tensor\n",
    "t = torch.zeros(1, 2, 1, 4, 1)\n",
    "t_sqz = torch.squeeze(t, 2)\n",
    "print(t.shape, ' --> ', t_sqz.shape)"
   ]
  },
  {
   "attachments": {},
   "cell_type": "markdown",
   "metadata": {},
   "source": [
    "### Applying math operations to tensors\n",
    "- torch.multiply(t1, t2)\n",
    "- torch.matmul(t1, t2)\n",
    "- torch.mean(t, dim)\n",
    "- torch.std(t, dim)\n",
    "- torch.linalg.norm(t, ord, dim)"
   ]
  },
  {
   "cell_type": "code",
   "execution_count": 29,
   "metadata": {},
   "outputs": [
    {
     "name": "stdout",
     "output_type": "stream",
     "text": [
      "tensor([[ 0.1312,  0.3860, -0.6267, -1.0096, -0.2943],\n",
      "        [ 0.1647, -0.5310,  0.2434,  0.8035,  0.1980],\n",
      "        [-0.3855, -0.4422,  1.1399,  1.5558,  0.4781],\n",
      "        [ 0.1822, -0.5771,  0.2585,  0.8676,  0.2132],\n",
      "        [ 0.0330,  0.1084, -0.1692, -0.2771, -0.0804]])\n",
      "tensor([[ 1.7453,  0.3392],\n",
      "        [-1.6038, -0.2180]])\n",
      "tensor([0.6785, 0.5078, 1.1162, 0.5488, 0.1853])\n",
      "[0.678 0.508 1.116 0.549 0.185]\n"
     ]
    }
   ],
   "source": [
    "# two random tensors, one from uniform dist, one from standard gaussian\n",
    "torch.manual_seed(1)\n",
    "t1 = 2 * torch.rand((5, 2)) - 1\n",
    "t2 = torch.normal(mean=0, std=1, size=(5, 2))\n",
    "\n",
    "# Element-wise product\n",
    "t3 = torch.multiply(t1, t2)\n",
    "# print(t3)\n",
    "\n",
    "# mean/sum/std along a specified axis\n",
    "# t4 = torch.mean(t1, axis=0)\n",
    "t4 = torch.std(t2, axis=0)\n",
    "# print(t4)\n",
    "\n",
    "# matmul\n",
    "t5 = torch.matmul(t1, torch.transpose(t2, 0, 1))\n",
    "print(t5)\n",
    "\n",
    "t6 = torch.matmul(torch.transpose(t1, 0, 1), t2)\n",
    "print(t6)\n",
    "\n",
    "# L^p norm of a tensor\n",
    "norm_t1 = torch.linalg.norm(t1, ord=2, dim=1)\n",
    "print(norm_t1)\n",
    "# verify the results\n",
    "np_norm = np.sqrt(np.sum(np.square(t1.numpy()), axis=1))\n",
    "print(np_norm)"
   ]
  },
  {
   "attachments": {},
   "cell_type": "markdown",
   "metadata": {},
   "source": [
    "### Split, stack and concatenate tensors\n",
    "- torch.chunk()\n",
    "- torch.split()\n",
    "- torch.cat([lst_tensors], axis)\n",
    "- "
   ]
  },
  {
   "cell_type": "code",
   "execution_count": 32,
   "metadata": {},
   "outputs": [
    {
     "name": "stdout",
     "output_type": "stream",
     "text": [
      "tensor([0.7576, 0.2793, 0.4031, 0.7347, 0.0293, 0.7999, 0.3971, 0.7544])\n",
      "(tensor([0.7576, 0.2793, 0.4031]), tensor([0.7347, 0.0293, 0.7999]), tensor([0.3971, 0.7544]))\n"
     ]
    }
   ],
   "source": [
    "torch.manual_seed(1)\n",
    "t = torch.rand(8)\n",
    "print(t)\n",
    "\n",
    "t_splits = torch.chunk(t, 3)\n",
    "print(t_splits)"
   ]
  },
  {
   "cell_type": "code",
   "execution_count": 33,
   "metadata": {},
   "outputs": [
    {
     "name": "stdout",
     "output_type": "stream",
     "text": [
      "tensor([0.5695, 0.4388, 0.6387, 0.5247, 0.6826])\n",
      "(tensor([0.5695, 0.4388, 0.6387]), tensor([0.5247, 0.6826]))\n"
     ]
    }
   ],
   "source": [
    "t = torch.rand(5)\n",
    "print(t)\n",
    "\n",
    "t_splits = torch.split(t, split_size_or_sections=[3, 2])\n",
    "print(t_splits)"
   ]
  },
  {
   "cell_type": "code",
   "execution_count": 45,
   "metadata": {},
   "outputs": [
    {
     "name": "stdout",
     "output_type": "stream",
     "text": [
      "tensor([1., 1., 1., 0., 0.])\n",
      "tensor([[1., 1., 1.],\n",
      "        [0., 0., 0.]])\n",
      "tensor([[1., 0.],\n",
      "        [1., 0.],\n",
      "        [1., 0.]])\n"
     ]
    }
   ],
   "source": [
    "A = torch.ones(3)\n",
    "B = torch.zeros(2)\n",
    "C = torch.cat([A, B], axis=0)\n",
    "print(C)\n",
    "\n",
    "A = torch.ones(3)\n",
    "B = torch.zeros(3)\n",
    "C = torch.stack([A, B], axis=0)\n",
    "print(C)\n",
    "\n",
    "A = torch.ones(3)\n",
    "B = torch.zeros(3)\n",
    "C = torch.stack([A, B], axis=1)\n",
    "print(C)\n"
   ]
  },
  {
   "attachments": {},
   "cell_type": "markdown",
   "metadata": {},
   "source": [
    "## Building data input pipelines\n",
    "- Dataset\n",
    "- DataLoader"
   ]
  },
  {
   "attachments": {},
   "cell_type": "markdown",
   "metadata": {},
   "source": [
    "### Creating a pytorch DataLoader from existing tensors"
   ]
  },
  {
   "cell_type": "code",
   "execution_count": 49,
   "metadata": {},
   "outputs": [
    {
     "name": "stdout",
     "output_type": "stream",
     "text": [
      "batch 1: tensor([0., 1., 2.])\n",
      "batch 2: tensor([3., 4., 5.])\n"
     ]
    }
   ],
   "source": [
    "from torch.utils.data import DataLoader\n",
    "t = torch.arange(6, dtype=torch.float32)\n",
    "data_loader = DataLoader(t)\n",
    "\n",
    "# for item in data_loader:\n",
    "#     print(item)\n",
    "\n",
    "data_loader = DataLoader(t, batch_size=3, drop_last=False)\n",
    "for i, batch in enumerate(data_loader, 1):\n",
    "    print(f'batch {i}:', batch)"
   ]
  },
  {
   "attachments": {},
   "cell_type": "markdown",
   "metadata": {},
   "source": [
    "### Combining two tensors into a joint dataset\n",
    "- A custom dataset must contain the following methods:\n",
    "    - __init__()\n",
    "    - __getitem__()"
   ]
  },
  {
   "cell_type": "code",
   "execution_count": 52,
   "metadata": {},
   "outputs": [],
   "source": [
    "torch.manual_seed(1)\n",
    "t_x = torch.rand((4, 3), dtype=torch.float32)\n",
    "t_y = torch.arange(4)\n",
    "\n",
    "from torch.utils.data import Dataset\n",
    "class JointDataset(Dataset):\n",
    "    def __init__(self, x, y):\n",
    "        self.x = x\n",
    "        self.y = y\n",
    "    \n",
    "    def __len__(self):\n",
    "        return len(self.x)\n",
    "    \n",
    "    def __getitem__(self, idx):\n",
    "        return self.x[idx], self.y[idx]"
   ]
  },
  {
   "cell_type": "code",
   "execution_count": 53,
   "metadata": {},
   "outputs": [
    {
     "name": "stdout",
     "output_type": "stream",
     "text": [
      "x:  tensor([0.7576, 0.2793, 0.4031])  y:  tensor(0)\n",
      "x:  tensor([0.7347, 0.0293, 0.7999])  y:  tensor(1)\n",
      "x:  tensor([0.3971, 0.7544, 0.5695])  y:  tensor(2)\n",
      "x:  tensor([0.4388, 0.6387, 0.5247])  y:  tensor(3)\n"
     ]
    }
   ],
   "source": [
    "joint_dataset = JointDataset(t_x, t_y)\n",
    "for example in joint_dataset:\n",
    "    print('x: ', example[0], ' y: ', example[1])"
   ]
  },
  {
   "attachments": {},
   "cell_type": "markdown",
   "metadata": {},
   "source": [
    "### Shuffle, batch and epochs"
   ]
  },
  {
   "cell_type": "code",
   "execution_count": 54,
   "metadata": {},
   "outputs": [
    {
     "name": "stdout",
     "output_type": "stream",
     "text": [
      "batch 1 x:  tensor([[0.3971, 0.7544, 0.5695],\n",
      "        [0.7576, 0.2793, 0.4031]]) \n",
      " y:  tensor([2, 0])\n",
      "batch 2 x:  tensor([[0.7347, 0.0293, 0.7999],\n",
      "        [0.4388, 0.6387, 0.5247]]) \n",
      " y:  tensor([1, 3])\n"
     ]
    }
   ],
   "source": [
    "torch.manual_seed(1)\n",
    "\n",
    "# Shuffle and load data\n",
    "data_loader = DataLoader(dataset=joint_dataset, batch_size=2, shuffle=True)\n",
    "\n",
    "for i, batch in enumerate(data_loader, 1):\n",
    "    print(f'batch {i}', 'x: ', batch[0], '\\n y: ', batch[1])"
   ]
  },
  {
   "cell_type": "code",
   "execution_count": 55,
   "metadata": {},
   "outputs": [
    {
     "name": "stdout",
     "output_type": "stream",
     "text": [
      "Epoch 1\n",
      "batch 1: x: tensor([[0.7576, 0.2793, 0.4031],\n",
      "        [0.3971, 0.7544, 0.5695]]) \n",
      " y: tensor([0, 2])\n",
      "batch 2: x: tensor([[0.7347, 0.0293, 0.7999],\n",
      "        [0.4388, 0.6387, 0.5247]]) \n",
      " y: tensor([1, 3])\n",
      "Epoch 2\n",
      "batch 1: x: tensor([[0.4388, 0.6387, 0.5247],\n",
      "        [0.3971, 0.7544, 0.5695]]) \n",
      " y: tensor([3, 2])\n",
      "batch 2: x: tensor([[0.7576, 0.2793, 0.4031],\n",
      "        [0.7347, 0.0293, 0.7999]]) \n",
      " y: tensor([0, 1])\n"
     ]
    }
   ],
   "source": [
    "# load multiple epochs\n",
    "for epoch in range(2):\n",
    "    print(f'Epoch {epoch + 1}')\n",
    "    for i, batch in enumerate(data_loader, 1):\n",
    "        print(f'batch {i}:', 'x:', batch[0], '\\n y:', batch[1])\n"
   ]
  },
  {
   "attachments": {},
   "cell_type": "markdown",
   "metadata": {},
   "source": [
    "### Creating dataset with files\n",
    "- Module: PIL.Image\n",
    "- Module: torchvision.transforms"
   ]
  },
  {
   "cell_type": "code",
   "execution_count": null,
   "metadata": {},
   "outputs": [],
   "source": [
    "import pathlib\n",
    "imgdir_path = pathlib.Path('cat_dog_images')\n",
    "file_list = sorted([str(path) for path in\n",
    "                    imgdir_path.glob('*.jpb')])\n",
    "print(file_list)"
   ]
  }
 ],
 "metadata": {
  "kernelspec": {
   "display_name": "d2l",
   "language": "python",
   "name": "python3"
  },
  "language_info": {
   "codemirror_mode": {
    "name": "ipython",
    "version": 3
   },
   "file_extension": ".py",
   "mimetype": "text/x-python",
   "name": "python",
   "nbconvert_exporter": "python",
   "pygments_lexer": "ipython3",
   "version": "3.9.13"
  },
  "orig_nbformat": 4
 },
 "nbformat": 4,
 "nbformat_minor": 2
}
