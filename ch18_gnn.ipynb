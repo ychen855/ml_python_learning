{
 "cells": [
  {
   "cell_type": "code",
   "execution_count": 1,
   "metadata": {},
   "outputs": [
    {
     "name": "stdout",
     "output_type": "stream",
     "text": [
      "[[0 1 1 0]\n",
      " [1 0 1 0]\n",
      " [1 1 0 1]\n",
      " [0 0 1 0]]\n",
      "[[0. 1. 0.]\n",
      " [0. 0. 1.]\n",
      " [0. 1. 0.]\n",
      " [1. 0. 0.]]\n"
     ]
    }
   ],
   "source": [
    "import numpy as np\n",
    "import networkx as nx\n",
    "\n",
    "G = nx.Graph()\n",
    "blue, orange, green = '#1f77b4', '#ff7f0e', '#2ca02c'\n",
    "G.add_nodes_from([\n",
    "    (1, {'color': blue}),\n",
    "    (2, {'color': orange}),\n",
    "    (3, {'color': blue}),\n",
    "    (4, {'color': green})\n",
    "])\n",
    "G.add_edges_from([(1,2), (2,3), (1,3), (3,4)])\n",
    "A = np.asarray(nx.adjacency_matrix(G).todense())\n",
    "print(A)\n",
    "\n",
    "def build_graph_color_label_representation(G, mapping_dict):\n",
    "    one_hot_idxs = np.array([mapping_dict[v] for v in nx.get_node_attributes(G, 'color').values()])\n",
    "    one_hot_encoding = np.zeros((one_hot_idxs.size, len(mapping_dict)))\n",
    "    one_hot_encoding[np.arange(one_hot_idxs.size), one_hot_idxs] = 1\n",
    "    return one_hot_encoding\n",
    "\n",
    "X = build_graph_color_label_representation(G, {green: 0, blue: 1, orange: 2})\n",
    "print(X)"
   ]
  },
  {
   "cell_type": "code",
   "execution_count": 3,
   "metadata": {},
   "outputs": [
    {
     "data": {
      "image/png": "[encoded data removed]",
      "text/plain": [
       "<Figure size 640x480 with 1 Axes>"
      ]
     },
     "metadata": {},
     "output_type": "display_data"
    }
   ],
   "source": [
    "color_map = nx.get_node_attributes(G, 'color').values()\n",
    "nx.draw_networkx(G, with_labels=True, node_color=color_map)"
   ]
  },
  {
   "cell_type": "code",
   "execution_count": 4,
   "metadata": {},
   "outputs": [],
   "source": [
    "# Implementing a gnn from scratch\n",
    "import networkx as nx\n",
    "import torch\n",
    "from torch.nn.parameter import Parameter\n",
    "import numpy as np\n",
    "import math\n",
    "import torch.nn.functional as F\n",
    "\n",
    "\n",
    "class BasicGraphConvolutionLayer(torch.nn.Module):\n",
    "    def __init__(self, in_channels, out_channels):\n",
    "        super().__init__()\n",
    "        self.in_channels = in_channels\n",
    "        self.out_channels = out_channels\n",
    "        self.W2 = Parameter(torch.rand((in_channels, out_channels), dtype=torch.float32))\n",
    "        self.W1 = Parameter(torch.rand((in_channels, out_channels), dtype=torch.float32))\n",
    "        self.bias = Parameter(torch.zeros(out_channels, dtype=torch.float32))\n",
    "\n",
    "    def forward(self, X, A):\n",
    "        potential_msgs = torch.mm(X, self.W2)\n",
    "        propagated_msgs = torch.mm(A, potential_msgs)\n",
    "        root_update = torch.mm(X, self.W1)\n",
    "        output = propagated_msgs + root_update + self.bias\n",
    "        return output\n",
    "    \n",
    "\n",
    "def global_sum_pool(X, batch_mat):\n",
    "    if batch_mat is None or batch_mat.dim() == 1:\n",
    "        return torch.sum(X, dim=0).unsqueeze(0)\n",
    "    else:\n",
    "        return torch.mm(batch_mat, X)\n",
    "\n",
    "\n",
    "class NodeNetwork(torch.nn.Module):\n",
    "    def __init__(self, input_features):\n",
    "        super().__init__()\n",
    "        self.conv_1 = BasicGraphConvolutionLayer(input_features, 32)\n",
    "        self.conv_2 = BasicGraphConvolutionLayer(32, 32)\n",
    "        self.fc_1 = torch.nn.Linear(32, 16)\n",
    "        self.out_layer = torch.nn.Linear(16, 2)\n",
    "    \n",
    "    def forward(self, X, A, batch_mat):\n",
    "        x = F.relu(self.conv_1(X, A))\n",
    "        x = F.relu(self.conv_2(x, A))\n",
    "        output = global_sum_pool(x, batch_mat)\n",
    "        output = self.fc_1(output)\n",
    "        output = self.out_layer(output)\n",
    "        return F.softmax(output, dim=1)\n"
   ]
  },
  {
   "cell_type": "code",
   "execution_count": 5,
   "metadata": {},
   "outputs": [],
   "source": [
    "def get_batch_tensor(graph_sizes):\n",
    "    starts = [sum(graph_sizes[:idx]) for idx in range(len(graph_sizes))]\n",
    "    stops = [starts[idx] + graph_sizes[idx] for idx in range(len(graph_sizes))]\n",
    "    tot_len = sum(graph_sizes)\n",
    "    batch_size = len(graph_sizes)\n",
    "    batch_mat = torch.zeros([batch_size, tot_len]).float()\n",
    "    for idx, starts_and_stops in enumerate(zip(starts, stops)):\n",
    "        start = starts_and_stops[0]\n",
    "        stop = starts_and_stops[1]\n",
    "        batch_mat[idx, start:stop] = 1\n",
    "    return batch_mat"
   ]
  },
  {
   "cell_type": "code",
   "execution_count": 6,
   "metadata": {},
   "outputs": [],
   "source": [
    "def collate_graphs(batch):\n",
    "    adj_mats = [graph['A'] for graph in batch]\n",
    "    sizes = [A.size(0) for A in adj_mats]\n",
    "    tot_size = sum(sizes)\n",
    "    batch_mat = get_batch_tensor(sizes)\n",
    "    # combine feature matrices\n",
    "    feat_mats = torch.cat([graph['X'] for graph in batch], dim=0)\n",
    "    # combine labels\n",
    "    labels = torch.cat([graph['y'] for graph in batch], dim=0)\n",
    "    # combine adjacency matrices\n",
    "    batch_adj = torch.zeros([tot_size, tot_size], dtype=torch.float32)\n",
    "    accum = 0\n",
    "    for adj in adj_mats:\n",
    "        g_size = adj.shape[0]\n",
    "        batch_adj[accum:accum+g_size, accum:accum+g_size] = adj\n",
    "        accum += g_size\n",
    "    repr_and_label = {'A': batch_adj, 'X': feat_mats, 'y': labels, 'batch': batch_mat}\n",
    "    return repr_and_label"
   ]
  },
  {
   "cell_type": "code",
   "execution_count": null,
   "metadata": {},
   "outputs": [],
   "source": [
    "def get_graph_dict(G, mapping_dict):\n",
    "    # function builds dictionary representation of G\n",
    "    A = torch.from_numpy(np.asarray(nx.adjacency_matrix(G).todense())).float()\n",
    "    X = torch.from_numpy(build_graph_color_label_representation(G, mapping_dict)).float()\n",
    "    y = torch.tensor([[1, 0]]).float()\n",
    "    return {'A': A, 'X': X, 'batch': None}"
   ]
  },
  {
   "cell_type": "code",
   "execution_count": 7,
   "metadata": {},
   "outputs": [],
   "source": [
    "blue, orange, green = \"#1f77b4\", \"#ff7f0e\",\"#2ca02c\"\n",
    "mapping_dict= {green:0, blue:1, orange:2}\n",
    "G1 = nx.Graph()\n",
    "G1.add_nodes_from([\n",
    "    (1, {'color': blue}),\n",
    "    (2, {'color': orange}),\n",
    "    (3, {'color': blue}),\n",
    "    (4, {'color': green})\n",
    "])\n",
    "G1.add_edges_from([(1,2), (2,3), (1,3), (3,4)])\n",
    "G2 = nx.Graph()\n",
    "G2.add_nodes_from([\n",
    "    (1, {'color': green}),\n",
    "    (2, {'color': green}),\n",
    "    (3, {'color': orange}),\n",
    "    (4, {'color': orange}),\n",
    "    (5, {'color': blue})\n",
    "])\n",
    "G2.add_edges_from([(2,3), (3,4), (3,1), (5,1)])\n",
    "G3 = nx.Graph()\n",
    "G3.add_nodes_from([\n",
    "    (1, {'color': orange}),\n",
    "    (2, {'color': orange}),\n",
    "    (3, {'color': green}),\n",
    "    (4, {'color': green}),\n",
    "    (5, {'color': blue}),\n",
    "    (6, {'color': orange})\n",
    "])\n",
    "G3.add_edges_from([(2,3), (3,4), (3,1), (5,1), (2,5), (6,1)])\n",
    "G4 = nx.Graph()\n",
    "G4.add_nodes_from([\n",
    "    (1, {'color': blue}),\n",
    "    (2, {'color': blue}),\n",
    "    (3, {'color': green})\n",
    "])\n",
    "G4.add_edges_from([(1,2), (2,3)])\n",
    "graph_list = [get_graph_dict(graph, mapping_dict) for graph in [G1, G2, G3, G4]]\n"
   ]
  },
  {
   "cell_type": "code",
   "execution_count": null,
   "metadata": {},
   "outputs": [],
   "source": [
    "from torch.utils.data import DataLoader\n",
    "dset = ExampleDataset(graph_list)\n",
    "loader = DataLoader(dset, batch_size=2, shuffle=False, collate_fn=collate_graphs)\n",
    "\n",
    "node_features = 3\n",
    "net = NodeNetwork(node_features)\n",
    "batch_results = []\n",
    "for b in loader:\n",
    "    batch_results.append(net(b['X'], b['A'], b['batch']).detach())\n",
    "    "
   ]
  }
 ],
 "metadata": {
  "kernelspec": {
   "display_name": "dl-metal",
   "language": "python",
   "name": "python3"
  },
  "language_info": {
   "codemirror_mode": {
    "name": "ipython",
    "version": 3
   },
   "file_extension": ".py",
   "mimetype": "text/x-python",
   "name": "python",
   "nbconvert_exporter": "python",
   "pygments_lexer": "ipython3",
   "version": "3.11.0"
  },
  "orig_nbformat": 4,
  "vscode": {
   "interpreter": {
    "hash": "89f5d6486b5816c0fb2aa3ebca413310c22203e5e5d0db06be5d04e6e9186423"
   }
  }
 },
 "nbformat": 4,
 "nbformat_minor": 2
}
